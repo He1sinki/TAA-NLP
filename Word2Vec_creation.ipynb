{
 "cells": [
  {
   "cell_type": "code",
   "execution_count": 41,
   "id": "32c23afa",
   "metadata": {
    "ExecuteTime": {
     "end_time": "2023-12-18T11:28:39.852117Z",
     "start_time": "2023-12-18T11:28:39.587395Z"
    }
   },
   "outputs": [],
   "source": [
    "import numpy as np\n",
    "\n",
    "np.set_printoptions(threshold=10000, suppress=True)\n",
    "import pandas as pd\n",
    "import warnings\n",
    "import matplotlib.pyplot as plt\n",
    "\n",
    "warnings.filterwarnings('ignore')"
   ]
  },
  {
   "cell_type": "markdown",
   "source": [
    "### Importer ce jeu de données avec la librairie pandas (c.f. read_csv)"
   ],
   "metadata": {
    "collapsed": false
   },
   "id": "f794df87208240d"
  },
  {
   "cell_type": "code",
   "execution_count": 42,
   "id": "3bc6a0c6",
   "metadata": {
    "ExecuteTime": {
     "end_time": "2023-12-18T11:28:42.059656Z",
     "start_time": "2023-12-18T11:28:39.855355Z"
    }
   },
   "outputs": [
    {
     "data": {
      "text/plain": "                                               Title  \\\n0  Expression of p53 and coexistence of HPV in pr...   \n1  Vitamin D status in pregnant Indian women acro...   \n2  [Identification of a functionally important di...   \n\n                                        abstractText  \\\n0  Fifty-four paraffin embedded tissue sections f...   \n1  The present cross-sectional study was conducte...   \n2  The occurrence of individual amino acids and d...   \n\n                                           meshMajor      pmid  \\\n0  ['DNA Probes, HPV', 'DNA, Viral', 'Female', 'H...   8549602   \n1  ['Adult', 'Alkaline Phosphatase', 'Breast Feed...  21736816   \n2  ['Amino Acid Sequence', 'Analgesics, Opioid', ...  19060934   \n\n                                              meshid  \\\n0  [['D13.444.600.223.555', 'D27.505.259.750.600....   \n1  [['M01.060.116'], ['D08.811.277.352.650.035'],...   \n2  [['G02.111.570.060', 'L01.453.245.667.060'], [...   \n\n                                            meshroot  A  B  C  D  E  F  G  H  \\\n0  ['Chemicals and Drugs [D]', 'Organisms [B]', '...  0  1  1  1  1  0  0  1   \n1  ['Named Groups [M]', 'Chemicals and Drugs [D]'...  0  1  1  1  1  1  1  0   \n2  ['Phenomena and Processes [G]', 'Information S...  1  1  0  1  1  0  1  0   \n\n   I  J  L  M  N  Z  \n0  0  0  0  0  0  0  \n1  1  1  0  1  1  1  \n2  0  0  1  0  0  0  ",
      "text/html": "<div>\n<style scoped>\n    .dataframe tbody tr th:only-of-type {\n        vertical-align: middle;\n    }\n\n    .dataframe tbody tr th {\n        vertical-align: top;\n    }\n\n    .dataframe thead th {\n        text-align: right;\n    }\n</style>\n<table border=\"1\" class=\"dataframe\">\n  <thead>\n    <tr style=\"text-align: right;\">\n      <th></th>\n      <th>Title</th>\n      <th>abstractText</th>\n      <th>meshMajor</th>\n      <th>pmid</th>\n      <th>meshid</th>\n      <th>meshroot</th>\n      <th>A</th>\n      <th>B</th>\n      <th>C</th>\n      <th>D</th>\n      <th>E</th>\n      <th>F</th>\n      <th>G</th>\n      <th>H</th>\n      <th>I</th>\n      <th>J</th>\n      <th>L</th>\n      <th>M</th>\n      <th>N</th>\n      <th>Z</th>\n    </tr>\n  </thead>\n  <tbody>\n    <tr>\n      <th>0</th>\n      <td>Expression of p53 and coexistence of HPV in pr...</td>\n      <td>Fifty-four paraffin embedded tissue sections f...</td>\n      <td>['DNA Probes, HPV', 'DNA, Viral', 'Female', 'H...</td>\n      <td>8549602</td>\n      <td>[['D13.444.600.223.555', 'D27.505.259.750.600....</td>\n      <td>['Chemicals and Drugs [D]', 'Organisms [B]', '...</td>\n      <td>0</td>\n      <td>1</td>\n      <td>1</td>\n      <td>1</td>\n      <td>1</td>\n      <td>0</td>\n      <td>0</td>\n      <td>1</td>\n      <td>0</td>\n      <td>0</td>\n      <td>0</td>\n      <td>0</td>\n      <td>0</td>\n      <td>0</td>\n    </tr>\n    <tr>\n      <th>1</th>\n      <td>Vitamin D status in pregnant Indian women acro...</td>\n      <td>The present cross-sectional study was conducte...</td>\n      <td>['Adult', 'Alkaline Phosphatase', 'Breast Feed...</td>\n      <td>21736816</td>\n      <td>[['M01.060.116'], ['D08.811.277.352.650.035'],...</td>\n      <td>['Named Groups [M]', 'Chemicals and Drugs [D]'...</td>\n      <td>0</td>\n      <td>1</td>\n      <td>1</td>\n      <td>1</td>\n      <td>1</td>\n      <td>1</td>\n      <td>1</td>\n      <td>0</td>\n      <td>1</td>\n      <td>1</td>\n      <td>0</td>\n      <td>1</td>\n      <td>1</td>\n      <td>1</td>\n    </tr>\n    <tr>\n      <th>2</th>\n      <td>[Identification of a functionally important di...</td>\n      <td>The occurrence of individual amino acids and d...</td>\n      <td>['Amino Acid Sequence', 'Analgesics, Opioid', ...</td>\n      <td>19060934</td>\n      <td>[['G02.111.570.060', 'L01.453.245.667.060'], [...</td>\n      <td>['Phenomena and Processes [G]', 'Information S...</td>\n      <td>1</td>\n      <td>1</td>\n      <td>0</td>\n      <td>1</td>\n      <td>1</td>\n      <td>0</td>\n      <td>1</td>\n      <td>0</td>\n      <td>0</td>\n      <td>0</td>\n      <td>1</td>\n      <td>0</td>\n      <td>0</td>\n      <td>0</td>\n    </tr>\n  </tbody>\n</table>\n</div>"
     },
     "execution_count": 42,
     "metadata": {},
     "output_type": "execute_result"
    }
   ],
   "source": [
    "data = pd.read_csv('PubMed-multi-label-dataset.csv', sep=',', encoding=\"utf-8\")\n",
    "data.head(3)"
   ]
  },
  {
   "cell_type": "code",
   "execution_count": 43,
   "outputs": [],
   "source": [
    "data = data.sample(frac=0.1, random_state=0)"
   ],
   "metadata": {
    "collapsed": false,
    "ExecuteTime": {
     "end_time": "2023-12-18T11:28:42.089481Z",
     "start_time": "2023-12-18T11:28:42.065636Z"
    }
   },
   "id": "506c3d1cf628bd57"
  },
  {
   "cell_type": "markdown",
   "source": [
    "### Analyser votre jeu de données, essentiellement la target. Chaque texte est labélisée par un\n",
    "ensemble de labels parmi les 14 labels suivants : Anatomy [A], Organisms [B], Diseases [C], Chemicals and Drugs [D], Analytical, Diagnostic and Therapeutic Techniques, and Equipment [E], Psychiatry and Psychology [F],Phenomena and Processes [G], Disciplines and Occupations [H], Anthropology, Education, Sociology, and Social Phenomena [I], Technology, Industry, and Agriculture [J], Information Science [L], Named Groups [M], Health Care [N], Geographicals [Z]"
   ],
   "metadata": {
    "collapsed": false
   },
   "id": "8b0572bd8f59d49a"
  },
  {
   "cell_type": "markdown",
   "source": [
    "### Modéliser le problème d’apprentissage supervisé sur ces données."
   ],
   "metadata": {
    "collapsed": false
   },
   "id": "d4ccfff0adb6281e"
  },
  {
   "cell_type": "markdown",
   "source": [
    "On décide de travailler uniquement sur l'abstractText"
   ],
   "metadata": {
    "collapsed": false
   },
   "id": "177269c5050b041"
  },
  {
   "cell_type": "code",
   "execution_count": 44,
   "id": "3f51b2f7",
   "metadata": {
    "ExecuteTime": {
     "end_time": "2023-12-18T11:28:42.505203Z",
     "start_time": "2023-12-18T11:28:42.501904Z"
    }
   },
   "outputs": [],
   "source": [
    "corpus = data['abstractText']"
   ]
  },
  {
   "cell_type": "markdown",
   "source": [
    "### Traiter vos données textuelles en supprimant les bruits dans les textes et en les normalisant. \n",
    "Vous pouvez vous inspirer par exemple du code par ici1 (en l’améliorant s’il le faut) si vous utiliserez la librairie NLTK. Vous pouvez aussi utiliser d’autres librairies (A vos recherches). N’oubliez pas que cette étape de pré-traitement (preprocessing) dépend de vos données et du problème traité. Quelques traitements à faire sont :\n",
    "- Suppression des ponctuations comme . , ! $( ) * % @ o Suppression des URLs\n",
    "- Suppression des Stop words\n",
    "- Transformation de tout le texte en minuscule.\n",
    "- Tokenisation de vos textes\n",
    "- Racinisation (Stemming)\n",
    "- Lemmatisation (lemmatization) o Etc."
   ],
   "metadata": {
    "collapsed": false
   },
   "id": "5e3f006cc7fc94de"
  },
  {
   "cell_type": "code",
   "execution_count": 45,
   "outputs": [],
   "source": [
    "import re, string, unicodedata\n",
    "import nltk\n",
    "import contractions\n",
    "import inflect\n",
    "from nltk import word_tokenize, sent_tokenize\n",
    "from nltk.corpus import stopwords\n",
    "from nltk.stem import LancasterStemmer, WordNetLemmatizer\n",
    "\n",
    "\n",
    "def replace_contractions(text):\n",
    "    \"\"\"Replace contractions in string of text\"\"\"\n",
    "    return contractions.fix(text)\n",
    "\n",
    "\n",
    "def remove_URL(sample):\n",
    "    \"\"\"Remove URLs from a sample string\"\"\"\n",
    "    return re.sub(r\"http\\S+\", \"\", sample)\n",
    "\n",
    "\n",
    "def remove_non_ascii(words):\n",
    "    \"\"\"Remove non-ASCII characters from list of tokenized words\"\"\"\n",
    "    new_words = []\n",
    "    for word in words:\n",
    "        new_word = unicodedata.normalize('NFKD', word).encode('ascii', 'ignore').decode('utf-8', 'ignore')\n",
    "        new_words.append(new_word)\n",
    "    return new_words\n",
    "\n",
    "\n",
    "def to_lowercase(words):\n",
    "    \"\"\"Convert all characters to lowercase from list of tokenized words\"\"\"\n",
    "    new_words = []\n",
    "    for word in words:\n",
    "        new_word = word.lower()\n",
    "        new_words.append(new_word)\n",
    "    return new_words\n",
    "\n",
    "\n",
    "def remove_punctuation(words):\n",
    "    \"\"\"Remove punctuation from list of tokenized words\"\"\"\n",
    "    new_words = []\n",
    "    for word in words:\n",
    "        new_word = re.sub(r'[^\\w\\s]', '', word)\n",
    "        if new_word != '':\n",
    "            new_words.append(new_word)\n",
    "    return new_words\n",
    "\n",
    "\n",
    "def replace_numbers(words):\n",
    "    \"\"\"Replace all interger occurrences in list of tokenized words with textual representation\"\"\"\n",
    "    p = inflect.engine()\n",
    "    new_words = []\n",
    "    for word in words:\n",
    "        if word.isdigit():\n",
    "            new_word = p.number_to_words(word)\n",
    "            new_words.append(new_word)\n",
    "        else:\n",
    "            new_words.append(word)\n",
    "    return new_words\n",
    "\n",
    "\n",
    "def remove_stopwords(words):\n",
    "    \"\"\"Remove stop words from list of tokenized words\"\"\"\n",
    "    new_words = []\n",
    "    for word in words:\n",
    "        if word not in stopwords.words('english'):\n",
    "            new_words.append(word)\n",
    "    return new_words\n",
    "\n",
    "\n",
    "def stem_words(words):\n",
    "    \"\"\"Stem words in list of tokenized words\"\"\"\n",
    "    stemmer = LancasterStemmer()\n",
    "    stems = []\n",
    "    for word in words:\n",
    "        stem = stemmer.stem(word)\n",
    "        stems.append(stem)\n",
    "    return stems\n",
    "\n",
    "\n",
    "def lemmatize_verbs(words):\n",
    "    \"\"\"Lemmatize verbs in list of tokenized words\"\"\"\n",
    "    lemmatizer = WordNetLemmatizer()\n",
    "    lemmas = []\n",
    "    for word in words:\n",
    "        lemma = lemmatizer.lemmatize(word, pos='v')\n",
    "        lemmas.append(lemma)\n",
    "    return lemmas\n",
    "\n",
    "\n",
    "def normalize(words):\n",
    "    words = remove_non_ascii(words)\n",
    "    words = to_lowercase(words)\n",
    "    words = remove_punctuation(words)\n",
    "    words = replace_numbers(words)\n",
    "    words = remove_stopwords(words)\n",
    "    return words\n",
    "\n",
    "\n",
    "def preprocess(sample):\n",
    "    sample = remove_URL(sample)\n",
    "    sample = replace_contractions(sample)\n",
    "    # Tokenize\n",
    "    words = nltk.word_tokenize(sample)\n",
    "\n",
    "    # Normalize\n",
    "    return normalize(words)"
   ],
   "metadata": {
    "collapsed": false,
    "ExecuteTime": {
     "end_time": "2023-12-18T11:28:42.532615Z",
     "start_time": "2023-12-18T11:28:42.512Z"
    }
   },
   "id": "6392337609a66fc9"
  },
  {
   "cell_type": "code",
   "execution_count": 46,
   "outputs": [
    {
     "name": "stderr",
     "output_type": "stream",
     "text": [
      "[nltk_data] Downloading package punkt to\n",
      "[nltk_data]     /Users/floriangeillon/nltk_data...\n",
      "[nltk_data]   Package punkt is already up-to-date!\n"
     ]
    },
    {
     "data": {
      "text/plain": "True"
     },
     "execution_count": 46,
     "metadata": {},
     "output_type": "execute_result"
    }
   ],
   "source": [
    "nltk.download('punkt')"
   ],
   "metadata": {
    "collapsed": false,
    "ExecuteTime": {
     "end_time": "2023-12-18T11:28:42.760078Z",
     "start_time": "2023-12-18T11:28:42.529807Z"
    }
   },
   "id": "4801c525f38e31ee"
  },
  {
   "cell_type": "code",
   "execution_count": 47,
   "outputs": [
    {
     "name": "stderr",
     "output_type": "stream",
     "text": [
      "100%|██████████| 5000/5000 [01:14<00:00, 66.94it/s]\n"
     ]
    }
   ],
   "source": [
    "from tqdm import tqdm\n",
    "\n",
    "words_data = []\n",
    "for sample in tqdm(corpus):\n",
    "    sample = remove_URL(sample)\n",
    "    sample = replace_contractions(sample)\n",
    "\n",
    "    # Tokenize\n",
    "    words = nltk.word_tokenize(sample)\n",
    "\n",
    "    # Normalize\n",
    "    words = normalize(words)\n",
    "\n",
    "    words_data.append(words)"
   ],
   "metadata": {
    "collapsed": false,
    "ExecuteTime": {
     "end_time": "2023-12-18T11:29:57.639112Z",
     "start_time": "2023-12-18T11:28:42.937061Z"
    }
   },
   "id": "c524d687307dec8b"
  },
  {
   "cell_type": "code",
   "execution_count": 48,
   "outputs": [],
   "source": [
    "import pickle\n",
    "\n",
    "with open('words_data.pkl', 'wb') as f:\n",
    "    pickle.dump(words_data, f)"
   ],
   "metadata": {
    "collapsed": false,
    "ExecuteTime": {
     "end_time": "2023-12-18T11:29:57.772397Z",
     "start_time": "2023-12-18T11:29:57.636268Z"
    }
   },
   "id": "19b02cf99e2fcb1c"
  },
  {
   "cell_type": "code",
   "execution_count": 49,
   "outputs": [],
   "source": [
    "import pickle\n",
    "\n",
    "with open('words_data.pkl', 'rb') as f:\n",
    "    words_data = pickle.load(f)"
   ],
   "metadata": {
    "collapsed": false,
    "ExecuteTime": {
     "end_time": "2023-12-18T11:29:57.858945Z",
     "start_time": "2023-12-18T11:29:57.764701Z"
    }
   },
   "id": "26e3d150c455766f"
  },
  {
   "cell_type": "code",
   "execution_count": 50,
   "outputs": [
    {
     "name": "stdout",
     "output_type": "stream",
     "text": [
      "['members', 'threezincfinger', 'family', 'transcription', 'factors', 'play', 'important', 'role', 'determining', 'basal', 'transcription', 'cloned', 'mouse', 'bteb3', 'mbteb3', 'new', 'member', 'basic', 'transcription', 'element', 'binding', 'protein', 'bteb', 'family', 'expressed', 'wide', 'variety', 'tissues', 'mbteb3', 'activates', 'transcription', 'simian', 'virus', 'forty', 'early', 'promoter', '4fold', 'tissuespecific', 'sm22alpha', 'promoter', '100fold', 'suggesting', 'like', 'bteb1', 'sp1', 'mbteb3', 'basal', 'transcription', 'factor']\n"
     ]
    }
   ],
   "source": [
    "print(words_data[0])"
   ],
   "metadata": {
    "collapsed": false,
    "ExecuteTime": {
     "end_time": "2023-12-18T11:29:57.872582Z",
     "start_time": "2023-12-18T11:29:57.862100Z"
    }
   },
   "id": "5789a3ae6414ed65"
  },
  {
   "cell_type": "markdown",
   "source": [
    "### Séparer les données en jeu de données d’apprentissage et jeu de données de test (50-50)."
   ],
   "metadata": {
    "collapsed": false
   },
   "id": "1ea4639acb936e94"
  },
  {
   "cell_type": "code",
   "execution_count": 51,
   "outputs": [],
   "source": [
    "from sklearn.model_selection import train_test_split\n",
    "\n",
    "X_train, X_test, y_train, y_test = train_test_split(words_data, data[\n",
    "    ['A', 'B', 'C', 'D', 'E', 'F', 'G', 'H', 'I', 'J', 'L', 'M', 'N', 'Z']], test_size=0.5, random_state=0)"
   ],
   "metadata": {
    "collapsed": false,
    "ExecuteTime": {
     "end_time": "2023-12-18T11:29:57.917098Z",
     "start_time": "2023-12-18T11:29:57.873038Z"
    }
   },
   "id": "80e20c617906225"
  },
  {
   "cell_type": "markdown",
   "source": [
    "### Proposer une fonction run_models permettant de comparer plusieurs modèles d’apprentissage (en fonction de votre modélisation) sur ces données. \n",
    "Pour les approches multi-label, vous utiliserez l’approche EnsembleClassifierChain et MultiOutputCLassifier du package sklearn.multioutput. Ces classifieurs nécessite un classifieur de base (base_estimator) dont vous avez le libre choix d’utilisation. Votre évaluation se basera sur les deux mesures hamming_loss et zero_one_loss."
   ],
   "metadata": {
    "collapsed": false
   },
   "id": "87787f464828ee57"
  },
  {
   "cell_type": "code",
   "execution_count": 52,
   "outputs": [],
   "source": [
    "from sklearn.multioutput import ClassifierChain\n",
    "from sklearn.multioutput import MultiOutputClassifier\n",
    "from sklearn.metrics import hamming_loss\n",
    "from sklearn.metrics import zero_one_loss\n",
    "\n",
    "\n",
    "def run_models(X_train, y_train, X_test, y_test, models, file_names=[]):\n",
    "    for model in models:\n",
    "        print(model)\n",
    "        model.fit(X_train, y_train)\n",
    "        y_pred = model.predict(X_test)\n",
    "        print(\"Hamming loss: \", hamming_loss(y_test, y_pred))\n",
    "        print(\"Zero-one loss: \", zero_one_loss(y_test, y_pred))\n",
    "        print()\n",
    "        if len(file_names) > 0:\n",
    "            with open(file_names[models.index(model)], 'wb') as f:\n",
    "                pickle.dump(model, f)"
   ],
   "metadata": {
    "collapsed": false,
    "ExecuteTime": {
     "end_time": "2023-12-18T11:29:57.918646Z",
     "start_time": "2023-12-18T11:29:57.908320Z"
    }
   },
   "id": "e02fe9202ba49536"
  },
  {
   "cell_type": "markdown",
   "source": [
    "On choisit d'utiliser un classifieur de base RandomForestClassifier"
   ],
   "metadata": {
    "collapsed": false
   },
   "id": "3bbdc69d42c28fa9"
  },
  {
   "cell_type": "code",
   "execution_count": 53,
   "outputs": [],
   "source": [
    "from sklearn.ensemble import RandomForestClassifier\n",
    "\n",
    "base_estimator = RandomForestClassifier()\n",
    "\n",
    "models = [ClassifierChain(base_estimator=base_estimator),\n",
    "          MultiOutputClassifier(estimator=base_estimator)]"
   ],
   "metadata": {
    "collapsed": false,
    "ExecuteTime": {
     "end_time": "2023-12-18T11:29:58.159439Z",
     "start_time": "2023-12-18T11:29:58.157352Z"
    }
   },
   "id": "267ddf0e0e14944d"
  },
  {
   "cell_type": "markdown",
   "source": [
    "### Proposer une première vectorisation de vos données textuelles par une représentation TF-IDF."
   ],
   "metadata": {
    "collapsed": false
   },
   "id": "ddc38133ee3a3fcb"
  },
  {
   "cell_type": "code",
   "execution_count": 55,
   "outputs": [],
   "source": [
    "from sklearn.feature_extraction.text import TfidfVectorizer\n",
    "\n",
    "vectorizer = TfidfVectorizer(stop_words='english')\n",
    "\n",
    "X_train_tfidf = [' '.join(words) for words in X_train]\n",
    "X_test_tfidf = [' '.join(words) for words in X_test]\n",
    "\n",
    "X_train_tfidf = vectorizer.fit_transform(X_train_tfidf)\n",
    "X_test_tfidf = vectorizer.transform(X_test_tfidf)"
   ],
   "metadata": {
    "collapsed": false,
    "ExecuteTime": {
     "end_time": "2023-12-18T11:30:30.903058Z",
     "start_time": "2023-12-18T11:30:30.301010Z"
    }
   },
   "id": "b55561899640b902"
  },
  {
   "cell_type": "markdown",
   "source": [
    "### Exécuter ensuite votre fonction run_models sur vos données et interpréter les résultats obtenus.\n",
    "Vous pouvez toujours appliquer votre fonction sur les données pré-traitées et les données non pré-\n",
    "traitées afin d’analyser l’apport de la partie pré-traitement de données."
   ],
   "metadata": {
    "collapsed": false
   },
   "id": "e25d74d0e82d6ca"
  },
  {
   "cell_type": "code",
   "execution_count": 56,
   "outputs": [
    {
     "name": "stdout",
     "output_type": "stream",
     "text": [
      "ClassifierChain(base_estimator=RandomForestClassifier())\n",
      "Hamming loss:  0.16377142857142857\n",
      "Zero-one loss:  0.8996\n",
      "\n",
      "MultiOutputClassifier(estimator=RandomForestClassifier())\n",
      "Hamming loss:  0.16354285714285716\n",
      "Zero-one loss:  0.9036\n"
     ]
    }
   ],
   "source": [
    "run_models(X_train_tfidf, y_train, X_test_tfidf, y_test, models,\n",
    "           ['models/ClassifierChain_ap.pkl', 'models/MultiOutputClassifier_ap.pkl'])"
   ],
   "metadata": {
    "collapsed": false,
    "ExecuteTime": {
     "end_time": "2023-12-18T11:31:17.056267Z",
     "start_time": "2023-12-18T11:30:32.747590Z"
    }
   },
   "id": "fe62435e411d693d"
  },
  {
   "cell_type": "markdown",
   "source": [
    "Sans prétraitement"
   ],
   "metadata": {
    "collapsed": false
   },
   "id": "694a83b7bba0db59"
  },
  {
   "cell_type": "code",
   "execution_count": 57,
   "outputs": [],
   "source": [
    "from sklearn.model_selection import train_test_split\n",
    "\n",
    "corpus = data['abstractText']\n",
    "vectorizer_sp = TfidfVectorizer(stop_words=None)\n",
    "\n",
    "X_train_sp, X_test_sp, y_train_sp, y_test_sp = train_test_split(corpus, data[\n",
    "    ['A', 'B', 'C', 'D', 'E', 'F', 'G', 'H', 'I', 'J', 'L', 'M', 'N', 'Z']], test_size=0.5, random_state=0)\n",
    "\n",
    "X_train_tfidf_sp = vectorizer_sp.fit_transform(X_train_sp)\n",
    "X_test_tfidf_sp = vectorizer_sp.transform(X_test_sp)"
   ],
   "metadata": {
    "collapsed": false,
    "ExecuteTime": {
     "end_time": "2023-12-18T11:32:33.877250Z",
     "start_time": "2023-12-18T11:32:32.569119Z"
    }
   },
   "id": "ca2912e71a5d6b0d"
  },
  {
   "cell_type": "code",
   "execution_count": 58,
   "outputs": [
    {
     "name": "stdout",
     "output_type": "stream",
     "text": [
      "ClassifierChain(base_estimator=RandomForestClassifier())\n",
      "Hamming loss:  0.16925714285714286\n",
      "Zero-one loss:  0.9088\n",
      "\n",
      "MultiOutputClassifier(estimator=RandomForestClassifier())\n",
      "Hamming loss:  0.16814285714285715\n",
      "Zero-one loss:  0.904\n"
     ]
    }
   ],
   "source": [
    "run_models(X_train_tfidf_sp, y_train_sp, X_test_tfidf_sp, y_test_sp, models,\n",
    "           ['models/ClassifierChain_sp.pkl', 'models/MultiOutputClassifier_sp.pkl'])"
   ],
   "metadata": {
    "collapsed": false,
    "ExecuteTime": {
     "end_time": "2023-12-18T11:33:20.535243Z",
     "start_time": "2023-12-18T11:32:34.697588Z"
    }
   },
   "id": "277460de371a3697"
  },
  {
   "cell_type": "markdown",
   "source": [
    "Pas énormément de différence entre les deux approches (avec et sans prétraitement) peut être à cause de RandomForestClassifier"
   ],
   "metadata": {
    "collapsed": false
   },
   "id": "5bee7d936e82d8dd"
  },
  {
   "cell_type": "markdown",
   "source": [
    "### Appliquer la méthode SVD de réduction de dimensions (TruncatedSVD) afin de construire des \"concepts\" liés aux documents et aux termes. Elle permettra entre autres de résoudre les problèmes de synonymie (plusieurs mots avec un seul sens) et de polysémie (un seul mot avec plusieurs sens). \n",
    "La fonction suivante vous aidera à comprendre les concepts en affichant leurs mots les plus pertinents."
   ],
   "metadata": {
    "collapsed": false
   },
   "id": "1826bc334568267b"
  },
  {
   "cell_type": "code",
   "execution_count": 59,
   "outputs": [],
   "source": [
    "def print_top_words(model, feature_names, n_top_words): \n",
    "    for topic_idx, topic in enumerate(model.components_):\n",
    "        message = \"Concept #%d: \" % topic_idx\n",
    "        message += \" \".join([feature_names[i] for i in topic.argsort()[:-n_top_words - 1:-1]])\n",
    "        print(message)\n",
    "    print()"
   ],
   "metadata": {
    "collapsed": false,
    "ExecuteTime": {
     "end_time": "2023-12-18T11:34:09.607108Z",
     "start_time": "2023-12-18T11:34:09.596196Z"
    }
   },
   "id": "845ce596cc1fc992"
  },
  {
   "cell_type": "code",
   "execution_count": 60,
   "outputs": [
    {
     "data": {
      "text/plain": "TruncatedSVD(n_components=100, random_state=0)",
      "text/html": "<style>#sk-container-id-1 {color: black;}#sk-container-id-1 pre{padding: 0;}#sk-container-id-1 div.sk-toggleable {background-color: white;}#sk-container-id-1 label.sk-toggleable__label {cursor: pointer;display: block;width: 100%;margin-bottom: 0;padding: 0.3em;box-sizing: border-box;text-align: center;}#sk-container-id-1 label.sk-toggleable__label-arrow:before {content: \"▸\";float: left;margin-right: 0.25em;color: #696969;}#sk-container-id-1 label.sk-toggleable__label-arrow:hover:before {color: black;}#sk-container-id-1 div.sk-estimator:hover label.sk-toggleable__label-arrow:before {color: black;}#sk-container-id-1 div.sk-toggleable__content {max-height: 0;max-width: 0;overflow: hidden;text-align: left;background-color: #f0f8ff;}#sk-container-id-1 div.sk-toggleable__content pre {margin: 0.2em;color: black;border-radius: 0.25em;background-color: #f0f8ff;}#sk-container-id-1 input.sk-toggleable__control:checked~div.sk-toggleable__content {max-height: 200px;max-width: 100%;overflow: auto;}#sk-container-id-1 input.sk-toggleable__control:checked~label.sk-toggleable__label-arrow:before {content: \"▾\";}#sk-container-id-1 div.sk-estimator input.sk-toggleable__control:checked~label.sk-toggleable__label {background-color: #d4ebff;}#sk-container-id-1 div.sk-label input.sk-toggleable__control:checked~label.sk-toggleable__label {background-color: #d4ebff;}#sk-container-id-1 input.sk-hidden--visually {border: 0;clip: rect(1px 1px 1px 1px);clip: rect(1px, 1px, 1px, 1px);height: 1px;margin: -1px;overflow: hidden;padding: 0;position: absolute;width: 1px;}#sk-container-id-1 div.sk-estimator {font-family: monospace;background-color: #f0f8ff;border: 1px dotted black;border-radius: 0.25em;box-sizing: border-box;margin-bottom: 0.5em;}#sk-container-id-1 div.sk-estimator:hover {background-color: #d4ebff;}#sk-container-id-1 div.sk-parallel-item::after {content: \"\";width: 100%;border-bottom: 1px solid gray;flex-grow: 1;}#sk-container-id-1 div.sk-label:hover label.sk-toggleable__label {background-color: #d4ebff;}#sk-container-id-1 div.sk-serial::before {content: \"\";position: absolute;border-left: 1px solid gray;box-sizing: border-box;top: 0;bottom: 0;left: 50%;z-index: 0;}#sk-container-id-1 div.sk-serial {display: flex;flex-direction: column;align-items: center;background-color: white;padding-right: 0.2em;padding-left: 0.2em;position: relative;}#sk-container-id-1 div.sk-item {position: relative;z-index: 1;}#sk-container-id-1 div.sk-parallel {display: flex;align-items: stretch;justify-content: center;background-color: white;position: relative;}#sk-container-id-1 div.sk-item::before, #sk-container-id-1 div.sk-parallel-item::before {content: \"\";position: absolute;border-left: 1px solid gray;box-sizing: border-box;top: 0;bottom: 0;left: 50%;z-index: -1;}#sk-container-id-1 div.sk-parallel-item {display: flex;flex-direction: column;z-index: 1;position: relative;background-color: white;}#sk-container-id-1 div.sk-parallel-item:first-child::after {align-self: flex-end;width: 50%;}#sk-container-id-1 div.sk-parallel-item:last-child::after {align-self: flex-start;width: 50%;}#sk-container-id-1 div.sk-parallel-item:only-child::after {width: 0;}#sk-container-id-1 div.sk-dashed-wrapped {border: 1px dashed gray;margin: 0 0.4em 0.5em 0.4em;box-sizing: border-box;padding-bottom: 0.4em;background-color: white;}#sk-container-id-1 div.sk-label label {font-family: monospace;font-weight: bold;display: inline-block;line-height: 1.2em;}#sk-container-id-1 div.sk-label-container {text-align: center;}#sk-container-id-1 div.sk-container {/* jupyter's `normalize.less` sets `[hidden] { display: none; }` but bootstrap.min.css set `[hidden] { display: none !important; }` so we also need the `!important` here to be able to override the default hidden behavior on the sphinx rendered scikit-learn.org. See: https://github.com/scikit-learn/scikit-learn/issues/21755 */display: inline-block !important;position: relative;}#sk-container-id-1 div.sk-text-repr-fallback {display: none;}</style><div id=\"sk-container-id-1\" class=\"sk-top-container\"><div class=\"sk-text-repr-fallback\"><pre>TruncatedSVD(n_components=100, random_state=0)</pre><b>In a Jupyter environment, please rerun this cell to show the HTML representation or trust the notebook. <br />On GitHub, the HTML representation is unable to render, please try loading this page with nbviewer.org.</b></div><div class=\"sk-container\" hidden><div class=\"sk-item\"><div class=\"sk-estimator sk-toggleable\"><input class=\"sk-toggleable__control sk-hidden--visually\" id=\"sk-estimator-id-1\" type=\"checkbox\" checked><label for=\"sk-estimator-id-1\" class=\"sk-toggleable__label sk-toggleable__label-arrow\">TruncatedSVD</label><div class=\"sk-toggleable__content\"><pre>TruncatedSVD(n_components=100, random_state=0)</pre></div></div></div></div></div>"
     },
     "execution_count": 60,
     "metadata": {},
     "output_type": "execute_result"
    }
   ],
   "source": [
    "from sklearn.decomposition import TruncatedSVD\n",
    "\n",
    "SVD = TruncatedSVD(n_components=100, random_state=0)\n",
    "SVD.fit(X_train_tfidf)"
   ],
   "metadata": {
    "collapsed": false,
    "ExecuteTime": {
     "end_time": "2023-12-18T11:34:13.199662Z",
     "start_time": "2023-12-18T11:34:10.355593Z"
    }
   },
   "id": "aca75a0cb6c138f7"
  },
  {
   "cell_type": "code",
   "execution_count": 61,
   "outputs": [
    {
     "name": "stdout",
     "output_type": "stream",
     "text": [
      "Concept #0: patients thousand ninety seven thirty group eighty cells study treatment\n",
      "Concept #1: cells cell expression protein activity gene human binding mice dna\n",
      "Concept #2: thousand ninety ci health women eighty seven thirty risk million\n",
      "Concept #3: thousand cells ninety ci cell eighty cancer expression seven thirty\n",
      "Concept #4: group levels serum rats glucose plasma significantly blood insulin increased\n",
      "Concept #5: health cells women risk cell levels cancer expression care group\n",
      "Concept #6: gene expression patients genes protein levels sequence mutations dna proteins\n",
      "Concept #7: group groups patients health cells control cell care pain expression\n",
      "Concept #8: group expression gene left renal coronary ventricular groups genes imaging\n",
      "Concept #9: cancer breast women risk carcinoma tumor method treatment factors chemotherapy\n",
      "Concept #10: cells group infection antibodies disease children serum virus women cases\n",
      "Concept #11: group treatment cancer binding case activity thousand renal patient breast\n",
      "Concept #12: binding women cancer receptor left patients pain receptors men risk\n",
      "Concept #13: women pain care cells mean serum coronary treatment protein patient\n",
      "Concept #14: pain children treatment activity months cases gene age bone epilepsy\n",
      "Concept #15: pain ci coronary infection ninety risk women cell chronic drug\n",
      "Concept #16: pain levels serum mice binding plasma expression antibodies thousand protein\n",
      "Concept #17: activity pain cancer ci enzyme ninety serum levels myocardial mice\n",
      "Concept #18: insulin glucose children pain diabetes blood type receptor diabetic ci\n",
      "Concept #19: insulin women drug coronary glucose cancer strains myocardial thousand breast\n",
      "Concept #20: risk pain surgery liver mice infection factors postoperative cells insulin\n",
      "Concept #21: cells rats renal hypertension pain ci blood gene dna sequences\n",
      "Concept #22: renal children thousand mice women hypertension activity kidney function model\n",
      "Concept #23: activity blood pressure mice bone body infection pulmonary hypertension patient\n",
      "Concept #24: children mice pulmonary growth species strains coronary cancer binding care\n",
      "Concept #25: children treatment serum liver myocardial coronary epilepsy imaging pain cell\n",
      "Concept #26: mice skin ci ninety cells treatment renal binding months dogs\n",
      "Concept #27: pulmonary cells thousand treatment serum coronary years therapy drug factors\n",
      "Concept #28: pain health drug mice renal bone dna tumor uptake expression\n",
      "Concept #29: mice acid delirium risk pulmonary care patients imaging drug cells\n",
      "Concept #30: students cases drug dna rats training binding liver cancer plasma\n",
      "Concept #31: skin disease drug model data activity cell care neurons thousand\n",
      "Concept #32: bone cell students dna marrow serum glucose levels syndrome cancer\n",
      "Concept #33: children tumor health liver epilepsy acid mm rna parents infants\n",
      "Concept #34: expression liver hepatitis risk virus muscle proteins disease imaging response\n",
      "Concept #35: pulmonary bone disease method dna coronary metastases mm sensitivity children\n",
      "Concept #36: dna cell pulmonary skin delirium levels species postoperative disease surgery\n",
      "Concept #37: students disease risk vs acid antibodies training stress receptor development\n",
      "Concept #38: mm renal acid cancer serum protein breast acids amino infection\n",
      "Concept #39: treatment risk delirium mice plasma disease factors care vs calcium\n",
      "Concept #40: dna mice cell cases reaction molecules blood body solution based\n",
      "Concept #41: infection pulmonary insulin vs ph receptor mice cells samples metastases\n",
      "Concept #42: students muscle skin clinical body mm uptake species serum mass\n",
      "Concept #43: bone plasma acid type drug rats carcinoma cell calcium changes\n",
      "Concept #44: stress students apoptosis infection rats skin method mass protein cancer\n",
      "Concept #45: tumor survival protein apoptosis rate proteins species analysis prognostic hr\n",
      "Concept #46: skin children epilepsy stress gene patients infection surgery type renal\n",
      "Concept #47: dna dogs skin expression blood species clinical pressure tumor myocardial\n",
      "Concept #48: cases tumor muscle radiation skin binding plasma diet exercise test\n",
      "Concept #49: disease test drug mm liver pressure ph blood species bone\n",
      "Concept #50: species expression bone vs plant seven body mass renal patient\n",
      "Concept #51: gastric type carcinoma method neurons care cases death disease degrees\n",
      "Concept #52: uptake patient liver rats soil stress years ninety antibodies insulin\n",
      "Concept #53: skin vs alcohol neurons lead mortality ventricular ultrasound species water\n",
      "Concept #54: dna model data plasma patient syndrome rats ph gastric age\n",
      "Concept #55: oh beta delirium expression cd rna cases left imaging acid\n",
      "Concept #56: delirium method alcohol plasma rna proteins changes bone sequences uptake\n",
      "Concept #57: plasma oh uptake transport data study exposure stress gastric binding\n",
      "Concept #58: beta exercise platelet brain cd uptake injury training infection control\n",
      "Concept #59: mm dogs beta mental cell temperature cases proteins exposure protein\n",
      "Concept #60: liver sleep platelet skin syndrome muscle species binding delirium health\n",
      "Concept #61: oh patient mm vitamin platelet medical diabetes samples rna subjects\n",
      "Concept #62: oh protein alcohol increased stroke risk species use gastric proteins\n",
      "Concept #63: gastric dogs water drug mm levels insulin cases method oh\n",
      "Concept #64: soil hiv ph alcohol treatment levels soils therapy nucleus mass\n",
      "Concept #65: lung drug levels tb dna results bladder dogs alcohol disease\n",
      "Concept #66: oh vitamin soil muscle 2d3 seven vaccine human body vs\n",
      "Concept #67: bmi method brain dogs clinical genes injury uptake reperfusion mirnas\n",
      "Concept #68: lung uptake vitamin new external receptor isolates injury total inflammatory\n",
      "Concept #69: tb tumor infection cd method control dogs soil tuberculosis gene\n",
      "Concept #70: tb apoptosis stress uptake blood breast isolates active brain species\n",
      "Concept #71: tumor days cd samples treatment motor protein proteins health disease\n",
      "Concept #72: mental muscle imaging human water oh stress medical ph dogs\n",
      "Concept #73: enzyme surgery method students oh postoperative growth sleep dogs nerve\n",
      "Concept #74: beta tumor alcohol soil vs type depression calcium ph exercise\n",
      "Concept #75: delirium rna injury carcinoma malaria mm calcium sequences mental ninety\n",
      "Concept #76: atp infants cd platelet sleep loss symptoms acid changes mirnas\n",
      "Concept #77: mass ii degrees reperfusion cu hiv min time levels patient\n",
      "Concept #78: patient beta complex dogs physicians infection day movement reaction cea\n",
      "Concept #79: enzyme method mm dopamine cu receptors lung intake receptor tb\n",
      "Concept #80: oh tumors rna birth temperature atp degrees dna risk extract\n",
      "Concept #81: mirnas use beta seven dna mice receptor delirium subjects control\n",
      "Concept #82: delirium uptake vs use syndrome protein months hiv prevalence stem\n",
      "Concept #83: age medical infants sleep lead artery administration dose years stroke\n",
      "Concept #84: model growth stroke tumor plasma oh alcohol care epilepsy implant\n",
      "Concept #85: uptake levels lesions risk symptoms implant apoptosis cortisol bladder human\n",
      "Concept #86: months chemotherapy clinical cd lesions brain normal ablation sequences sperm\n",
      "Concept #87: rna antibodies results epilepsy cu adhd temperature spinal movement sperm\n",
      "Concept #88: calcium hypoxia drug oxygen rna acid hr assay parents subjects\n",
      "Concept #89: lung calcium injury ph apoptosis cortisol lead therapy seventy presence\n",
      "Concept #90: test cardiac medical syndrome surgery levels diabetes metabolism molecules dopamine\n",
      "Concept #91: soil uptake loss rna bladder training children peptide malaria human\n",
      "Concept #92: gastric adhd exposure bone medical hypertension sleep management significant role\n",
      "Concept #93: flow sperm medical ultrasound growth hypoxia genes particle size vitamin\n",
      "Concept #94: rates diet platelet method seven different delirium smoking cu ca\n",
      "Concept #95: genetic visual apoptosis vitamin tissue schizophrenia spinal children metabolism stress\n",
      "Concept #96: epilepsy mental field soil amino sequences dogs days method mass\n",
      "Concept #97: stroke cea physicians species light delirium surface concentrations patient mm\n",
      "Concept #98: epilepsy microm lung molecules vitamin response ablation exercise function synthesis\n",
      "Concept #99: bladder mt sleep data cu thirty case hypertension ct days\n"
     ]
    }
   ],
   "source": [
    "feature_names = vectorizer.get_feature_names_out()\n",
    "print_top_words(SVD, feature_names, 10)"
   ],
   "metadata": {
    "collapsed": false,
    "ExecuteTime": {
     "end_time": "2023-12-18T11:34:15.402015Z",
     "start_time": "2023-12-18T11:34:15.043413Z"
    }
   },
   "id": "8b41266401bc6cf1"
  },
  {
   "cell_type": "markdown",
   "source": [
    "Même chose avec les données sans prétraitement"
   ],
   "metadata": {
    "collapsed": false
   },
   "id": "ee67d29fc4ea7342"
  },
  {
   "cell_type": "code",
   "execution_count": 63,
   "outputs": [
    {
     "name": "stdout",
     "output_type": "stream",
     "text": [
      "Concept #0: the of and in to with was were for patients\n",
      "Concept #1: patients with were group was and had treatment who years\n",
      "Concept #2: cells cell expression in il induced levels protein cancer receptor\n",
      "Concept #3: group the was were mg rats kg groups glucose min\n",
      "Concept #4: and health to ci 95 care women risk for research\n",
      "Concept #5: il in group is rats glucose health insulin induced exercise\n",
      "Concept #6: cancer cells the cell ci 95 group breast tumor lung\n",
      "Concept #7: group in gene expression groups patients genes the were control\n",
      "Concept #8: group binding of patients the cancer glucose protein ci insulin\n",
      "Concept #9: il patients for alpha cancer treatment dose therapy binding group\n",
      "Concept #10: of health il cells hiv care infection were cell anti\n",
      "Concept #11: il the ifn expression 95 ci inflammatory mrna gene type\n",
      "Concept #12: and cancer case tumor glucose breast levels of acid treatment\n",
      "Concept #13: and health care protein binding cell patients beta cells the\n",
      "Concept #14: expression gene treatment genes of therapy glucose insulin after mg\n",
      "Concept #15: group patient case is old binding year beta after acid\n",
      "Concept #16: glucose insulin is diabetes group ml plasma dna method liver\n",
      "Concept #17: glucose cell dna insulin subjects treatment diabetes therapy with on\n",
      "Concept #18: of group cells sleep platelet subjects women coronary groups pressure\n",
      "Concept #19: acid apoptosis ci 95 caspase activity induced mortality glucose group\n",
      "Concept #20: hiv drug coronary myocardial the resistance isolates cardiac infection strains\n",
      "Concept #21: children renal hiv treatment transplantation liver and mg ci the\n",
      "Concept #22: insulin glucose binding of receptor diabetes cells were treatment cases\n",
      "Concept #23: dna and rats rna liver on sites species cancer of\n",
      "Concept #24: was activity dna apoptosis beta pain in induced method for\n",
      "Concept #25: hiv infection proteins protein virus acid to liver surgery after\n",
      "Concept #26: hiv cancer apoptosis ml years dna mean caspase and beta\n",
      "Concept #27: exercise ml hiv with sleep min cancer ci 95 during\n",
      "Concept #28: dna is pain water that by atp cell ph mg\n",
      "Concept #29: beta acid health with apoptosis from we model alpha species\n",
      "Concept #30: cell model was drug of species in coronary children anti\n",
      "Concept #31: hiv rna glucose drug species expression lung treatment cells pain\n",
      "Concept #32: hiv bone health gene as beta or be acid exercise\n",
      "Concept #33: pain cells drug acid body mg isolates infection this resistance\n",
      "Concept #34: exercise acid were sleep as cases during blood therapy cancer\n",
      "Concept #35: lung pulmonary activity children volume pressure by dose hypertension rna\n",
      "Concept #36: and mg kg lung body disease weight for virus anti\n",
      "Concept #37: protein exercise children proteins mass body treatment growth species that\n",
      "Concept #38: cell acid subjects for of data liver volume cocaine glucose\n",
      "Concept #39: exercise rats model bone high growth activity care for drug\n",
      "Concept #40: bone treatment women with cells disease proteins pain protein igf\n",
      "Concept #41: liver cells as hiv to children disease ph acid degrees\n",
      "Concept #42: ph cocaine pressure hypertension blood from treatment years drug samples\n",
      "Concept #43: renal on growth cancer activity insulin prostate model body care\n",
      "Concept #44: lung cells was pulmonary model species renal with insulin their\n",
      "Concept #45: pain sleep platelet species care months antibodies tissue are health\n",
      "Concept #46: mice cocaine renal health diabetes binding with species as strain\n",
      "Concept #47: levels diabetes cases type were after than cell liver bond\n",
      "Concept #48: rats ml cell plasma children activity vitamin is that women\n",
      "Concept #49: pain bone pulmonary mg growth diabetes apoptosis health ci hypertension\n",
      "Concept #50: renal to alpha ii mass exercise pain hiv risk tb\n",
      "Concept #51: beta pain tumor alpha tumors plasma self mice pulmonary change\n",
      "Concept #52: as liver platelet activity sleep mass were well infection species\n",
      "Concept #53: sleep been has hiv cell have care drug intake food\n",
      "Concept #54: liver health lung transplantation coronary bone been test after exercise\n",
      "Concept #55: species apoptosis glucose is malaria ml caspase between there pain\n",
      "Concept #56: disease lead tb cases health ml case infection symptoms be\n",
      "Concept #57: sleep infection pain virus subjects acid growth cd and cases\n",
      "Concept #58: as cocaine isolates disease synthesis water beta bone training exercise\n",
      "Concept #59: sleep were or rats lead model coronary il apoptosis obesity\n",
      "Concept #60: dose mm rna pain risk ct disease children imaging are\n",
      "Concept #61: or water care ph sleep liver body anti pregnancy dentin\n",
      "Concept #62: sensitivity insulin pulmonary liver response mice transplantation receptor ar lead\n",
      "Concept #63: ph hiv after rats calcium risk proteins method children cases\n",
      "Concept #64: family sleep than cocaine injury more species transplantation risk 01\n",
      "Concept #65: cocaine virus pulmonary had phase strains ph beta subjects drug\n",
      "Concept #66: to bone injury family serum ph with model sensitivity days\n",
      "Concept #67: expression species mrna liver beta is mice on pet up\n",
      "Concept #68: body to program pain lead method rna women levels with\n",
      "Concept #69: on pain prevalence enzyme mice ar pulmonary lead schizophrenia sleep\n",
      "Concept #70: by women platelet anxiety lung binding ii cocaine water liver\n",
      "Concept #71: family hiv degrees method anti igf tumor visual subjects temperature\n",
      "Concept #72: disease apoptosis insulin dna mortality water artery high cea caspase\n",
      "Concept #73: phase type patient diabetes is during pain cocaine anti trna\n",
      "Concept #74: cocaine tb is salt changes training drug pancreatic symptoms with\n",
      "Concept #75: alpha pet synthesis three side rna acute by family aspirin\n",
      "Concept #76: diabetes bone tb plasma ml injury on hr type prostate\n",
      "Concept #77: ca patient infection type was are both per more diabetes\n",
      "Concept #78: injury cocaine volume severe prostate pain insulin are therapy tumors\n",
      "Concept #79: sleep cocaine bone ii dose lung use species response myocardial\n",
      "Concept #80: model cocaine mass genes or gene risk mice lung been\n",
      "Concept #81: calcium hla training ph muscle based lead two model risk\n",
      "Concept #82: growth liver 10 case strains human their treatment girls peptide\n",
      "Concept #83: water children after women drug mm hla disease type receptor\n",
      "Concept #84: igf ca mm clinical therapy may lung be oh receptor\n",
      "Concept #85: ca reaction care tissue 000 pulmonary risk tumor therapy proteins\n",
      "Concept #86: cocaine are human breast mir insulin training activity was or\n",
      "Concept #87: pulmonary platelet family strains cell diabetes or their control case\n",
      "Concept #88: liver isolates malaria pulmonary system mass body is lead gastric\n",
      "Concept #89: subjects treatment tissue hpv mortality using disease high more receptor\n",
      "Concept #90: mass ms response transplantation prevalence hpv smoking cocaine trna is\n",
      "Concept #91: ii water use from pd after mass for ca activation\n",
      "Concept #92: mir isolates data clinical expression virus mirnas membrane anti presented\n",
      "Concept #93: hpv method cocaine therapy patient muscle vs isolates number test\n",
      "Concept #94: rats tumor control effect pancreatic body had pd clinical level\n",
      "Concept #95: hpv alpha is family mental not factors 01 pulmonary infants\n",
      "Concept #96: mir igf 10 mirnas igfbp students exposure injury family diabetes\n",
      "Concept #97: degrees their cases transplantation students pulmonary an syndrome strains synthesis\n",
      "Concept #98: tb transplantation 01 by genes quality rats system ca exercise\n",
      "Concept #99: during mm alpha development hla ms body growth their aa\n"
     ]
    }
   ],
   "source": [
    "SVD_sp = TruncatedSVD(n_components=100, random_state=0)\n",
    "SVD_sp.fit(X_train_tfidf_sp)\n",
    "\n",
    "feature_names_sp = vectorizer_sp.get_feature_names_out()\n",
    "print_top_words(SVD_sp, feature_names_sp, 10)"
   ],
   "metadata": {
    "collapsed": false,
    "ExecuteTime": {
     "end_time": "2023-12-18T11:42:30.797901Z",
     "start_time": "2023-12-18T11:42:28.491467Z"
    }
   },
   "id": "a8d654e609500364"
  },
  {
   "cell_type": "code",
   "execution_count": 64,
   "outputs": [],
   "source": [
    "X_train_tfidf_svd = SVD.transform(X_train_tfidf)\n",
    "X_test_tfidf_svd = SVD.transform(X_test_tfidf)\n",
    "\n",
    "X_train_tfidf_sp_svd = SVD_sp.transform(X_train_tfidf_sp)\n",
    "X_test_tfidf_sp_svd = SVD_sp.transform(X_test_tfidf_sp)"
   ],
   "metadata": {
    "collapsed": false,
    "ExecuteTime": {
     "end_time": "2023-12-18T11:44:39.637129Z",
     "start_time": "2023-12-18T11:44:39.557683Z"
    }
   },
   "id": "4d0e783c74c3bb9c"
  },
  {
   "cell_type": "code",
   "execution_count": 65,
   "outputs": [
    {
     "name": "stdout",
     "output_type": "stream",
     "text": [
      "ClassifierChain(base_estimator=RandomForestClassifier())\n",
      "Hamming loss:  0.1626\n",
      "Zero-one loss:  0.8984\n",
      "\n",
      "MultiOutputClassifier(estimator=RandomForestClassifier())\n",
      "Hamming loss:  0.16251428571428572\n",
      "Zero-one loss:  0.8976\n"
     ]
    }
   ],
   "source": [
    "run_models(X_train_tfidf_svd, y_train, X_test_tfidf_svd, y_test, models,\n",
    "           ['models/ClassifierChain_ap_svd.pkl', 'models/MultiOutputClassifier_ap_svd.pkl'])"
   ],
   "metadata": {
    "collapsed": false,
    "ExecuteTime": {
     "end_time": "2023-12-18T11:45:52.387210Z",
     "start_time": "2023-12-18T11:44:56.456532Z"
    }
   },
   "id": "49e70a9c53ea7c78"
  },
  {
   "cell_type": "code",
   "execution_count": 66,
   "outputs": [
    {
     "name": "stdout",
     "output_type": "stream",
     "text": [
      "ClassifierChain(base_estimator=RandomForestClassifier())\n",
      "Hamming loss:  0.16762857142857143\n",
      "Zero-one loss:  0.9092\n",
      "\n",
      "MultiOutputClassifier(estimator=RandomForestClassifier())\n",
      "Hamming loss:  0.16857142857142857\n",
      "Zero-one loss:  0.9144\n"
     ]
    }
   ],
   "source": [
    "run_models(X_train_tfidf_sp_svd, y_train_sp, X_test_tfidf_sp_svd, y_test_sp, models,\n",
    "           ['models/ClassifierChain_sp_svd.pkl', 'models/MultiOutputClassifier_sp_svd.pkl'])"
   ],
   "metadata": {
    "collapsed": false,
    "ExecuteTime": {
     "end_time": "2023-12-18T11:47:08.264155Z",
     "start_time": "2023-12-18T11:46:10.820292Z"
    }
   },
   "id": "a102effaf8019fe3"
  },
  {
   "cell_type": "markdown",
   "source": [],
   "metadata": {
    "collapsed": false
   },
   "id": "633fd21b52509be0"
  },
  {
   "cell_type": "code",
   "execution_count": null,
   "id": "f674c07b",
   "metadata": {
    "ExecuteTime": {
     "start_time": "2023-12-18T11:29:58.195874Z"
    }
   },
   "outputs": [],
   "source": [
    "import gensim"
   ]
  },
  {
   "cell_type": "markdown",
   "id": "cb0ae999",
   "metadata": {},
   "source": [
    "## Apprentissage du Word2vec"
   ]
  },
  {
   "cell_type": "code",
   "execution_count": null,
   "id": "af726910",
   "metadata": {
    "ExecuteTime": {
     "start_time": "2023-12-18T11:29:58.197389Z"
    }
   },
   "outputs": [],
   "source": [
    "corpus = corpus.apply(lambda line: gensim.utils.simple_preprocess((line)))"
   ]
  },
  {
   "cell_type": "code",
   "execution_count": null,
   "outputs": [],
   "source": [
    "corpus.head(3)"
   ],
   "metadata": {
    "collapsed": false,
    "ExecuteTime": {
     "start_time": "2023-12-18T11:29:58.198858Z"
    }
   },
   "id": "b1339b0f02e0d541"
  },
  {
   "cell_type": "code",
   "execution_count": null,
   "id": "3860f7b1",
   "metadata": {
    "ExecuteTime": {
     "start_time": "2023-12-18T11:29:58.200269Z"
    }
   },
   "outputs": [],
   "source": [
    "#Ici le code suivant a besoin de votre corpus de texte où chaque texte est tokenizé (une liste de tokens)\n"
   ]
  },
  {
   "cell_type": "code",
   "execution_count": null,
   "id": "fba78cea",
   "metadata": {
    "ExecuteTime": {
     "start_time": "2023-12-18T11:29:58.202004Z"
    }
   },
   "outputs": [],
   "source": [
    "import multiprocessing\n",
    "\n",
    "cores = multiprocessing.cpu_count()\n",
    "cores"
   ]
  },
  {
   "cell_type": "code",
   "execution_count": null,
   "id": "a98fb377",
   "metadata": {
    "ExecuteTime": {
     "end_time": "2023-12-18T11:29:58.223591Z",
     "start_time": "2023-12-18T11:29:58.203486Z"
    }
   },
   "outputs": [],
   "source": [
    "model_size = 100\n",
    "model = gensim.models.Word2Vec(corpus, vector_size=model_size, sg=0, window=5, min_count=2, workers=cores - 1)"
   ]
  },
  {
   "cell_type": "code",
   "execution_count": null,
   "id": "aa2427ba",
   "metadata": {
    "scrolled": true,
    "ExecuteTime": {
     "start_time": "2023-12-18T11:29:58.204434Z"
    }
   },
   "outputs": [],
   "source": [
    "for i in range(100):\n",
    "    model.train(corpus, total_examples=len(corpus), epochs=1)\n",
    "    print(i, end=' ')"
   ]
  },
  {
   "cell_type": "code",
   "execution_count": null,
   "id": "4dd83181",
   "metadata": {
    "ExecuteTime": {
     "start_time": "2023-12-18T11:29:58.205382Z"
    }
   },
   "outputs": [],
   "source": [
    "model.save('../models/Word2vec_entraine.h5')"
   ]
  },
  {
   "cell_type": "code",
   "execution_count": null,
   "id": "e8b60e4b",
   "metadata": {
    "ExecuteTime": {
     "start_time": "2023-12-18T11:29:58.206338Z"
    }
   },
   "outputs": [],
   "source": [
    "model = gensim.models.Word2Vec.load('../models/Word2vec_entraine.h5')"
   ]
  },
  {
   "cell_type": "code",
   "execution_count": null,
   "id": "cc0b0b26",
   "metadata": {
    "ExecuteTime": {
     "start_time": "2023-12-18T11:29:58.207266Z"
    }
   },
   "outputs": [],
   "source": [
    "len(model.wv.index_to_key)"
   ]
  },
  {
   "cell_type": "code",
   "execution_count": null,
   "id": "d2c62325",
   "metadata": {
    "ExecuteTime": {
     "start_time": "2023-12-18T11:29:58.208154Z"
    }
   },
   "outputs": [],
   "source": [
    "model.wv['easy']"
   ]
  },
  {
   "cell_type": "code",
   "execution_count": null,
   "id": "9500be5a",
   "metadata": {
    "ExecuteTime": {
     "start_time": "2023-12-18T11:29:58.209100Z"
    }
   },
   "outputs": [],
   "source": [
    "model.wv.most_similar(positive='thank', topn=10)"
   ]
  },
  {
   "cell_type": "code",
   "execution_count": null,
   "id": "3033ee2d",
   "metadata": {
    "ExecuteTime": {
     "start_time": "2023-12-18T11:29:58.210109Z"
    }
   },
   "outputs": [],
   "source": [
    "model.wv.doesnt_match(['food', 'drink', 'play'])"
   ]
  },
  {
   "cell_type": "code",
   "execution_count": null,
   "id": "c2c72159",
   "metadata": {
    "ExecuteTime": {
     "start_time": "2023-12-18T11:29:58.211053Z"
    }
   },
   "outputs": [],
   "source": [
    "model.wv.most_similar(positive=['king', 'woman'], negative=['man'], topn=1)"
   ]
  },
  {
   "cell_type": "code",
   "execution_count": null,
   "id": "f3525e92",
   "metadata": {
    "ExecuteTime": {
     "start_time": "2023-12-18T11:29:58.212079Z"
    }
   },
   "outputs": [],
   "source": []
  },
  {
   "cell_type": "code",
   "execution_count": null,
   "id": "2afac36b",
   "metadata": {
    "ExecuteTime": {
     "start_time": "2023-12-18T11:29:58.213212Z"
    }
   },
   "outputs": [],
   "source": []
  }
 ],
 "metadata": {
  "kernelspec": {
   "display_name": "Python 3",
   "language": "python",
   "name": "python3"
  },
  "language_info": {
   "codemirror_mode": {
    "name": "ipython",
    "version": 3
   },
   "file_extension": ".py",
   "mimetype": "text/x-python",
   "name": "python",
   "nbconvert_exporter": "python",
   "pygments_lexer": "ipython3",
   "version": "3.8.13"
  }
 },
 "nbformat": 4,
 "nbformat_minor": 5
}
