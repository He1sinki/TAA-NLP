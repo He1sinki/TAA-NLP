{
 "cells": [
  {
   "cell_type": "code",
   "execution_count": 88,
   "id": "32c23afa",
   "metadata": {
    "ExecuteTime": {
     "end_time": "2024-01-10T14:48:18.892683Z",
     "start_time": "2024-01-10T14:48:18.886137Z"
    }
   },
   "outputs": [],
   "source": [
    "import numpy as np\n",
    "\n",
    "np.set_printoptions(threshold=10000, suppress=True)\n",
    "import pandas as pd\n",
    "import warnings\n",
    "import matplotlib.pyplot as plt\n",
    "\n",
    "warnings.filterwarnings('ignore')"
   ]
  },
  {
   "cell_type": "code",
   "execution_count": 89,
   "id": "3bc6a0c6",
   "metadata": {
    "ExecuteTime": {
     "end_time": "2024-01-10T14:48:21.195281Z",
     "start_time": "2024-01-10T14:48:19.732439Z"
    }
   },
   "outputs": [
    {
     "data": {
      "text/plain": "                                               Title  \\\n0  Expression of p53 and coexistence of HPV in pr...   \n1  Vitamin D status in pregnant Indian women acro...   \n2  [Identification of a functionally important di...   \n\n                                        abstractText  \\\n0  Fifty-four paraffin embedded tissue sections f...   \n1  The present cross-sectional study was conducte...   \n2  The occurrence of individual amino acids and d...   \n\n                                           meshMajor      pmid  \\\n0  ['DNA Probes, HPV', 'DNA, Viral', 'Female', 'H...   8549602   \n1  ['Adult', 'Alkaline Phosphatase', 'Breast Feed...  21736816   \n2  ['Amino Acid Sequence', 'Analgesics, Opioid', ...  19060934   \n\n                                              meshid  \\\n0  [['D13.444.600.223.555', 'D27.505.259.750.600....   \n1  [['M01.060.116'], ['D08.811.277.352.650.035'],...   \n2  [['G02.111.570.060', 'L01.453.245.667.060'], [...   \n\n                                            meshroot  A  B  C  D  E  F  G  H  \\\n0  ['Chemicals and Drugs [D]', 'Organisms [B]', '...  0  1  1  1  1  0  0  1   \n1  ['Named Groups [M]', 'Chemicals and Drugs [D]'...  0  1  1  1  1  1  1  0   \n2  ['Phenomena and Processes [G]', 'Information S...  1  1  0  1  1  0  1  0   \n\n   I  J  L  M  N  Z  \n0  0  0  0  0  0  0  \n1  1  1  0  1  1  1  \n2  0  0  1  0  0  0  ",
      "text/html": "<div>\n<style scoped>\n    .dataframe tbody tr th:only-of-type {\n        vertical-align: middle;\n    }\n\n    .dataframe tbody tr th {\n        vertical-align: top;\n    }\n\n    .dataframe thead th {\n        text-align: right;\n    }\n</style>\n<table border=\"1\" class=\"dataframe\">\n  <thead>\n    <tr style=\"text-align: right;\">\n      <th></th>\n      <th>Title</th>\n      <th>abstractText</th>\n      <th>meshMajor</th>\n      <th>pmid</th>\n      <th>meshid</th>\n      <th>meshroot</th>\n      <th>A</th>\n      <th>B</th>\n      <th>C</th>\n      <th>D</th>\n      <th>E</th>\n      <th>F</th>\n      <th>G</th>\n      <th>H</th>\n      <th>I</th>\n      <th>J</th>\n      <th>L</th>\n      <th>M</th>\n      <th>N</th>\n      <th>Z</th>\n    </tr>\n  </thead>\n  <tbody>\n    <tr>\n      <th>0</th>\n      <td>Expression of p53 and coexistence of HPV in pr...</td>\n      <td>Fifty-four paraffin embedded tissue sections f...</td>\n      <td>['DNA Probes, HPV', 'DNA, Viral', 'Female', 'H...</td>\n      <td>8549602</td>\n      <td>[['D13.444.600.223.555', 'D27.505.259.750.600....</td>\n      <td>['Chemicals and Drugs [D]', 'Organisms [B]', '...</td>\n      <td>0</td>\n      <td>1</td>\n      <td>1</td>\n      <td>1</td>\n      <td>1</td>\n      <td>0</td>\n      <td>0</td>\n      <td>1</td>\n      <td>0</td>\n      <td>0</td>\n      <td>0</td>\n      <td>0</td>\n      <td>0</td>\n      <td>0</td>\n    </tr>\n    <tr>\n      <th>1</th>\n      <td>Vitamin D status in pregnant Indian women acro...</td>\n      <td>The present cross-sectional study was conducte...</td>\n      <td>['Adult', 'Alkaline Phosphatase', 'Breast Feed...</td>\n      <td>21736816</td>\n      <td>[['M01.060.116'], ['D08.811.277.352.650.035'],...</td>\n      <td>['Named Groups [M]', 'Chemicals and Drugs [D]'...</td>\n      <td>0</td>\n      <td>1</td>\n      <td>1</td>\n      <td>1</td>\n      <td>1</td>\n      <td>1</td>\n      <td>1</td>\n      <td>0</td>\n      <td>1</td>\n      <td>1</td>\n      <td>0</td>\n      <td>1</td>\n      <td>1</td>\n      <td>1</td>\n    </tr>\n    <tr>\n      <th>2</th>\n      <td>[Identification of a functionally important di...</td>\n      <td>The occurrence of individual amino acids and d...</td>\n      <td>['Amino Acid Sequence', 'Analgesics, Opioid', ...</td>\n      <td>19060934</td>\n      <td>[['G02.111.570.060', 'L01.453.245.667.060'], [...</td>\n      <td>['Phenomena and Processes [G]', 'Information S...</td>\n      <td>1</td>\n      <td>1</td>\n      <td>0</td>\n      <td>1</td>\n      <td>1</td>\n      <td>0</td>\n      <td>1</td>\n      <td>0</td>\n      <td>0</td>\n      <td>0</td>\n      <td>1</td>\n      <td>0</td>\n      <td>0</td>\n      <td>0</td>\n    </tr>\n  </tbody>\n</table>\n</div>"
     },
     "execution_count": 89,
     "metadata": {},
     "output_type": "execute_result"
    }
   ],
   "source": [
    "data = pd.read_csv('PubMed-multi-label-dataset.csv', sep=',', encoding=\"utf-8\")\n",
    "data.head(3)"
   ]
  },
  {
   "cell_type": "code",
   "execution_count": 90,
   "id": "3f51b2f7",
   "metadata": {
    "ExecuteTime": {
     "end_time": "2024-01-10T14:48:22.421749Z",
     "start_time": "2024-01-10T14:48:22.404336Z"
    }
   },
   "outputs": [],
   "source": [
    "corpus = data['abstractText']"
   ]
  },
  {
   "cell_type": "markdown",
   "source": [
    "### Proposer un code qui permettra d’apprendre votre propre modèle de plongement lexical Word2Vec sur vos données textuelles. Évaluer visuellement et numériquement sur quelques mots clés votre nouveau modèle de vectorisation (Embedding)."
   ],
   "metadata": {
    "collapsed": false
   },
   "id": "f0a4db1d5f79996a"
  },
  {
   "cell_type": "code",
   "outputs": [],
   "source": [
    "import numpy as np\n",
    "from collections import defaultdict\n",
    "from nltk.tokenize import word_tokenize\n",
    "\n",
    "# Tokeniser les phrases\n",
    "tokenized_corpus = [word_tokenize(sentence.lower()) for sentence in corpus]\n",
    "\n",
    "# Définir les paramètres du modèle Word2Vec\n",
    "vector_size = 100\n",
    "window_size = 2\n",
    "learning_rate = 0.025\n",
    "epochs = 10\n",
    "\n",
    "# Initialiser les vecteurs de mots\n",
    "word_vectors = defaultdict(lambda: np.random.uniform(-0.25, 0.25, vector_size))\n",
    "\n",
    "# Fonction pour mettre à jour les vecteurs de mots\n",
    "def update_word_vector(target, context, learning_rate):\n",
    "    error = word_vectors[context] - word_vectors[target]\n",
    "    word_vectors[target] += learning_rate * error\n",
    "    word_vectors[context] -= learning_rate * error\n",
    "\n",
    "# Entraîner le modèle Word2Vec\n",
    "for epoch in range(epochs):\n",
    "    for sentence in tokenized_corpus:\n",
    "        for target_index, target_word in enumerate(sentence):\n",
    "            for context_word in sentence[max(0, target_index - window_size):target_index + window_size]:\n",
    "                if target_word != context_word:\n",
    "                    update_word_vector(target_word, context_word, learning_rate)\n",
    "\n",
    "# Exemple d'utilisation des vecteurs de mots après l'entraînement\n",
    "print(word_vectors[\"exemple\"])\n"
   ],
   "metadata": {
    "collapsed": false,
    "is_executing": true,
    "ExecuteTime": {
     "start_time": "2024-01-10T14:48:31.003392Z"
    }
   },
   "id": "b9369349f295d25",
   "execution_count": null
  },
  {
   "cell_type": "markdown",
   "source": [
    "### Exploiter votre modèle Word2Vec pour la vectorisation de vos textes (avec deux méthodes utilisant ou non le TF-IDF des mots). Exécuter ensuite à nouveau votre fonction run_models sur vos données vectorisées par Word2Vec et interpréter les résultats obtenus en les comparant à ceux obtenus aux étapes précédentes. Vous pouvez vous inspirer de la fonction suivante :"
   ],
   "metadata": {
    "collapsed": false
   },
   "id": "da34f94faa0f5bdf"
  },
  {
   "cell_type": "code",
   "outputs": [],
   "source": [
    "## get word2vec for each sentence by using average word embeddings\n",
    "def word2vec_generator(texts,model,vector_size): \n",
    "    dict_word2vec = {}\n",
    "    for index, word_list in enumerate(texts):\n",
    "        arr = np.array([0.0 for i in range(0, vector_size)]) \n",
    "        nb_word=0\n",
    "        for word in word_list:\n",
    "            try:\n",
    "                arr += model[word] \n",
    "                nb_word=nb_word+1\n",
    "            except KeyError: \n",
    "                continue\n",
    "        if(len(word_list) == 0): \n",
    "            dict_word2vec[index] = arr\n",
    "        else:\n",
    "            dict_word2vec[index] = arr / nb_word\n",
    "    df_word2vec = pd.DataFrame(dict_word2vec).T \n",
    "    return df_word2vec"
   ],
   "metadata": {
    "collapsed": false,
    "ExecuteTime": {
     "end_time": "2024-01-10T14:01:41.534677Z",
     "start_time": "2024-01-10T14:01:41.525379Z"
    }
   },
   "id": "8ed966ca827abe84",
   "execution_count": 85
  },
  {
   "cell_type": "code",
   "outputs": [],
   "source": [
    "df_word2vec = word2vec_generator(tokenized_corpus,word_vectors,vector_size)"
   ],
   "metadata": {
    "collapsed": false
   },
   "id": "646e59254f54fa75"
  },
  {
   "cell_type": "code",
   "outputs": [],
   "source": [],
   "metadata": {
    "collapsed": false
   },
   "id": "df82c940c80a41c2"
  },
  {
   "cell_type": "code",
   "outputs": [],
   "source": [],
   "metadata": {
    "collapsed": false
   },
   "id": "7f9faf686cf08451"
  },
  {
   "cell_type": "code",
   "execution_count": 29,
   "id": "f674c07b",
   "metadata": {
    "ExecuteTime": {
     "end_time": "2024-01-10T13:32:41.978183Z",
     "start_time": "2024-01-10T13:32:40.103416Z"
    }
   },
   "outputs": [],
   "source": [
    "import gensim"
   ]
  },
  {
   "cell_type": "markdown",
   "id": "cb0ae999",
   "metadata": {},
   "source": [
    "## Apprentissage du Word2vec"
   ]
  },
  {
   "cell_type": "markdown",
   "source": [
    "Proposer un code qui permettra d’apprendre votre propre modèle de plongement lexical Word2Vec sur vos données textuelles. Évaluer visuellement et numériquement sur quelques mots clés votre nouveau modèle de vectorisation (Embedding)."
   ],
   "metadata": {
    "collapsed": false
   },
   "id": "eb5d3ee934f6f5d4"
  },
  {
   "cell_type": "code",
   "execution_count": 30,
   "id": "af726910",
   "metadata": {
    "ExecuteTime": {
     "end_time": "2024-01-10T13:32:56.257341Z",
     "start_time": "2024-01-10T13:32:46.123117Z"
    }
   },
   "outputs": [],
   "source": [
    "corpus = corpus.apply(lambda line: gensim.utils.simple_preprocess((line)))"
   ]
  },
  {
   "cell_type": "code",
   "execution_count": 32,
   "id": "3860f7b1",
   "metadata": {
    "ExecuteTime": {
     "end_time": "2024-01-10T13:36:28.458887Z",
     "start_time": "2024-01-10T13:36:28.431124Z"
    }
   },
   "outputs": [],
   "source": [
    "#Ici le code suivant a besoin de votre corpus de texte où chaque texte est tokenizé (une liste de tokens)"
   ]
  },
  {
   "cell_type": "code",
   "execution_count": 33,
   "id": "fba78cea",
   "metadata": {
    "ExecuteTime": {
     "end_time": "2024-01-10T13:36:29.395185Z",
     "start_time": "2024-01-10T13:36:29.388815Z"
    }
   },
   "outputs": [
    {
     "data": {
      "text/plain": "8"
     },
     "execution_count": 33,
     "metadata": {},
     "output_type": "execute_result"
    }
   ],
   "source": [
    "import multiprocessing\n",
    "\n",
    "cores = multiprocessing.cpu_count()\n",
    "cores"
   ]
  },
  {
   "cell_type": "code",
   "execution_count": 34,
   "id": "a98fb377",
   "metadata": {
    "ExecuteTime": {
     "end_time": "2024-01-10T13:36:53.944952Z",
     "start_time": "2024-01-10T13:36:30.111225Z"
    }
   },
   "outputs": [],
   "source": [
    "model_size = 100\n",
    "model = gensim.models.Word2Vec(corpus, vector_size=model_size, sg=0, window=5, min_count=2, workers=cores - 1)"
   ]
  },
  {
   "cell_type": "code",
   "execution_count": 35,
   "id": "aa2427ba",
   "metadata": {
    "scrolled": true,
    "ExecuteTime": {
     "end_time": "2024-01-10T13:44:30.065091Z",
     "start_time": "2024-01-10T13:37:28.139784Z"
    }
   },
   "outputs": [
    {
     "name": "stdout",
     "output_type": "stream",
     "text": [
      "0 1 2 3 4 5 6 7 8 9 10 11 12 13 14 15 16 17 18 19 20 21 22 23 24 25 26 27 28 29 30 31 32 33 34 35 36 37 38 39 40 41 42 43 44 45 46 47 48 49 50 51 52 53 54 55 56 57 58 59 60 61 62 63 64 65 66 67 68 69 70 71 72 73 74 75 76 77 78 79 80 81 82 83 84 85 86 87 88 89 90 91 92 93 94 95 96 97 98 99 "
     ]
    }
   ],
   "source": [
    "for i in range(100):\n",
    "    model.train(corpus, total_examples=len(corpus), epochs=1)\n",
    "    print(i, end=' ')"
   ]
  },
  {
   "cell_type": "code",
   "execution_count": 37,
   "id": "4dd83181",
   "metadata": {
    "ExecuteTime": {
     "end_time": "2024-01-10T13:44:40.363343Z",
     "start_time": "2024-01-10T13:44:40.292524Z"
    }
   },
   "outputs": [],
   "source": [
    "model.save('models/Word2vec_entraine.h5')"
   ]
  },
  {
   "cell_type": "code",
   "execution_count": 38,
   "id": "e8b60e4b",
   "metadata": {
    "ExecuteTime": {
     "end_time": "2024-01-10T13:44:42.074556Z",
     "start_time": "2024-01-10T13:44:41.648157Z"
    }
   },
   "outputs": [],
   "source": [
    "model = gensim.models.Word2Vec.load('models/Word2vec_entraine.h5')"
   ]
  },
  {
   "cell_type": "code",
   "execution_count": 44,
   "id": "cc0b0b26",
   "metadata": {
    "ExecuteTime": {
     "end_time": "2024-01-10T13:46:43.301484Z",
     "start_time": "2024-01-10T13:46:43.291712Z"
    }
   },
   "outputs": [
    {
     "data": {
      "text/plain": "74651"
     },
     "execution_count": 44,
     "metadata": {},
     "output_type": "execute_result"
    }
   ],
   "source": [
    "len(model.wv.index_to_key)"
   ]
  },
  {
   "cell_type": "code",
   "execution_count": 40,
   "id": "d2c62325",
   "metadata": {
    "ExecuteTime": {
     "end_time": "2024-01-10T13:44:47.862821Z",
     "start_time": "2024-01-10T13:44:47.853435Z"
    }
   },
   "outputs": [
    {
     "data": {
      "text/plain": "array([ 1.6654079 , -1.5034784 ,  0.5110981 , -4.1930223 ,  0.09314937,\n        2.7616625 ,  0.04700468, -2.2822714 ,  0.03874538, -0.52443343,\n       -2.8938997 ,  2.148002  , -1.9232304 , -0.06286446,  3.1893587 ,\n       -5.270746  ,  0.32784304, -1.9411395 , -2.1714635 , -1.4288378 ,\n       -1.5348532 ,  1.473419  , -2.1207361 ,  0.49881884, -2.9406567 ,\n       -2.5208883 ,  2.3622885 ,  0.20641853, -0.25003427,  2.7113533 ,\n        0.06382579, -4.113934  , -1.3935217 ,  1.0365883 ,  2.7860017 ,\n       -0.5919349 , -0.7498196 ,  0.33379614,  1.523776  , -3.8976786 ,\n        2.3132668 , -0.19561335,  1.0088341 , -0.07472833,  3.0608702 ,\n        0.38650712, -3.7923768 ,  0.17576897, -0.504891  ,  0.8269976 ,\n       -0.7221326 , -0.40463012,  0.8607108 ,  0.24683255, -1.3537418 ,\n        0.23207827,  4.110492  ,  0.13510512,  4.179361  ,  1.4840094 ,\n       -1.1553626 , -1.1207767 , -0.1877254 , -0.877413  ,  0.03301156,\n        0.65108037, -2.92177   , -0.1319233 ,  1.240849  ,  1.3310713 ,\n        0.8968043 , -1.7018183 ,  2.804198  ,  1.3567338 , -1.6838123 ,\n        4.7249203 ,  3.0435376 , -0.5868759 ,  1.9011931 , -0.20090011,\n       -3.976306  ,  0.30068514,  1.9833173 ,  4.8741875 , -0.03299792,\n       -1.1306645 , -1.9129747 , -1.7229292 , -0.51844734, -1.6484765 ,\n       -2.8390417 , -0.6368754 , -1.620235  ,  2.8547573 ,  0.9505857 ,\n       -4.9421587 ,  3.3484108 , -1.4053391 , -0.01698172, -2.9123752 ],\n      dtype=float32)"
     },
     "execution_count": 40,
     "metadata": {},
     "output_type": "execute_result"
    }
   ],
   "source": [
    "model.wv['easy']"
   ]
  },
  {
   "cell_type": "code",
   "execution_count": 53,
   "id": "9500be5a",
   "metadata": {
    "ExecuteTime": {
     "end_time": "2024-01-10T13:49:20.482231Z",
     "start_time": "2024-01-10T13:49:20.420282Z"
    }
   },
   "outputs": [
    {
     "data": {
      "text/plain": "[('owing', 0.5255916118621826),\n ('ensure', 0.5067655444145203),\n ('accommodate', 0.5008588433265686),\n ('preserve', 0.4975113570690155),\n ('accomplish', 0.4673018157482147),\n ('due', 0.4569520950317383),\n ('pertaining', 0.4540463984012604),\n ('ascribe', 0.4397198259830475),\n ('itinerary', 0.4372483491897583),\n ('navigate', 0.43124091625213623)]"
     },
     "execution_count": 53,
     "metadata": {},
     "output_type": "execute_result"
    }
   ],
   "source": [
    "model.wv.most_similar(positive='thanks', topn=10)"
   ]
  },
  {
   "cell_type": "code",
   "execution_count": 51,
   "id": "3033ee2d",
   "metadata": {
    "ExecuteTime": {
     "end_time": "2024-01-10T13:49:01.965753Z",
     "start_time": "2024-01-10T13:49:01.953252Z"
    }
   },
   "outputs": [
    {
     "data": {
      "text/plain": "'play'"
     },
     "execution_count": 51,
     "metadata": {},
     "output_type": "execute_result"
    }
   ],
   "source": [
    "model.wv.doesnt_match(['food', 'drink', 'play'])"
   ]
  },
  {
   "cell_type": "code",
   "execution_count": 84,
   "id": "c2c72159",
   "metadata": {
    "ExecuteTime": {
     "end_time": "2024-01-10T13:58:50.420249Z",
     "start_time": "2024-01-10T13:58:50.375867Z"
    }
   },
   "outputs": [
    {
     "data": {
      "text/plain": "[('lactate', 0.6244521141052246)]"
     },
     "execution_count": 84,
     "metadata": {},
     "output_type": "execute_result"
    }
   ],
   "source": [
    "model.wv.most_similar(positive=['blood', 'glucose'], topn=1)"
   ]
  },
  {
   "cell_type": "code",
   "execution_count": null,
   "id": "f3525e92",
   "metadata": {},
   "outputs": [],
   "source": []
  },
  {
   "cell_type": "code",
   "execution_count": null,
   "id": "2afac36b",
   "metadata": {},
   "outputs": [],
   "source": []
  }
 ],
 "metadata": {
  "kernelspec": {
   "display_name": "Python 3",
   "language": "python",
   "name": "python3"
  },
  "language_info": {
   "codemirror_mode": {
    "name": "ipython",
    "version": 3
   },
   "file_extension": ".py",
   "mimetype": "text/x-python",
   "name": "python",
   "nbconvert_exporter": "python",
   "pygments_lexer": "ipython3",
   "version": "3.8.13"
  }
 },
 "nbformat": 4,
 "nbformat_minor": 5
}
